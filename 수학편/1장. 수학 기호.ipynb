{
 "cells": [
  {
   "cell_type": "markdown",
   "id": "d51fe58b",
   "metadata": {},
   "source": [
    "# 1.1 그리스 문자"
   ]
  },
  {
   "cell_type": "markdown",
   "id": "547f201b",
   "metadata": {},
   "source": [
    "+ 수학에서는 변수이름을 그리스 문자로 표현한다.\n",
    "+ 그리스 문자를 아래와 같이 소개한다."
   ]
  },
  {
   "cell_type": "markdown",
   "id": "e7661924",
   "metadata": {},
   "source": [
    "![image](https://user-images.githubusercontent.com/28241676/204461690-217a477b-ae21-4eff-b209-4faf417aedd8.png)"
   ]
  },
  {
   "cell_type": "markdown",
   "id": "b0028ff5",
   "metadata": {},
   "source": [
    "markdown에서는 `Tex` 조판언어로 수식을 표현할 수 있다.<br>\n",
    "```Tex\n",
    "$$ \\alpha = \\beta $$\n",
    "```\n",
    "->\n",
    "$$ \\alpha = \\beta $$"
   ]
  },
  {
   "cell_type": "markdown",
   "id": "d5a4b2d5",
   "metadata": {},
   "source": [
    "# 1.2 수열과 집합의 합과 곱\n",
    "+ 숫자의 합과 곱을 수학기호로 표현한다.\n",
    "+ 합 : $ \\sum $\n",
    "+ 곱 : $ \\prod $"
   ]
  },
  {
   "cell_type": "markdown",
   "id": "b7a881fd",
   "metadata": {},
   "source": [
    "## 수열(Sequence)\n",
    "+ 수열은 N개의 숫자 또는 변수가 순서대로 나열된 것\n",
    "\n",
    "## 집합(Set)\n",
    "+ 순서가 중요하지 않은 숫자들은 집합으로 표시한다.\n",
    "+ Python에서 집합은 `{...}`으로 표현됨\n",
    "+ 1부터 N가지의 수열 또는 집합을 표현하는 수식\n",
    "    + $ x_{1:N} $\n",
    "    + $ \\{x_i\\}_N $\n",
    "    \n",
    "+ 집합에 알파벳 대문자로 이름을 붙일 수 있다.\n",
    "    + $ x \\in R $\n",
    "    + `x는 실수(R)에 포함된다`\n",
    "+ 만약 두 개의 숫자로 이루어진 숫자 쌍 $(x_1, x_2)$가 있고 각각의 숫자가 실수라면,\n",
    "    + $ (x_1, x_2) \\in R \\times R $"
   ]
  },
  {
   "cell_type": "markdown",
   "id": "69e0bec1",
   "metadata": {},
   "source": [
    "## 수열의 합과 곱\n",
    "+ 그리스 문자의 시그마($ \\sum $)와 파이($ \\prod $)를 본딴 기호는 영어로 `sum`, `product`이다.\n",
    "+ 이는 각각 수열의 합과 곱을 표현한 기호이다.\n",
    "+ $ \\sum_{i=1}^N x_i = x_1 + x_2 + \\ldots + x_N $\n",
    "+ $ \\prod_{i=1}^N x_i = x_1 \\cdot x_2 \\cdot \\ldots \\cdot x_N $\n",
    "\n",
    "## 집합의 합과 곱\n",
    "+ 수열 뿐만 아니라 집합의 원소들의 합과 곱을 구할 때에도 $\\sum$과 $\\prod$가 사용된다.\n",
    "+ 이때는 인덱스 대신 집합 기호를 사용한다.\n",
    "    + 만약 집합 X가 $X = \\{x_1, x_2, x_3\\}$ 이라면,\n",
    "    + $ \\sum_X x = x_1 + x_2 + x_3 $\n",
    "    + $ \\prod_X x = x_1 \\cdot x_2 \\cdot x_3 $\n",
    "+ 원소 중에서 특정한 조건을 가진 원소만 포함시키거나 제외시켜 표현할 수 있다.\n",
    "    + $ \\prod_{x \\in X, x \\neq 0} x $\n",
    "    + `X의 원소 중에서 x가 0이 아닌 값에 대해서 곱을 수행한다는 의미`"
   ]
  },
  {
   "cell_type": "code",
   "execution_count": null,
   "id": "e6a6d708",
   "metadata": {},
   "outputs": [],
   "source": []
  }
 ],
 "metadata": {
  "kernelspec": {
   "display_name": "Data_Science_School",
   "language": "python",
   "name": "data_science_school"
  },
  "language_info": {
   "codemirror_mode": {
    "name": "ipython",
    "version": 3
   },
   "file_extension": ".py",
   "mimetype": "text/x-python",
   "name": "python",
   "nbconvert_exporter": "python",
   "pygments_lexer": "ipython3",
   "version": "3.8.15"
  }
 },
 "nbformat": 4,
 "nbformat_minor": 5
}
