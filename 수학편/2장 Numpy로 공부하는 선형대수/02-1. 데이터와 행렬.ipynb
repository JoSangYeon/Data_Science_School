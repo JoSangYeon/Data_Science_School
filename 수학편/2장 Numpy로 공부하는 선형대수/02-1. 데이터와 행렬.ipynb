{
 "cells": [
  {
   "cell_type": "markdown",
   "id": "ae916ffb",
   "metadata": {},
   "source": [
    "# 데이터와 행렬\n",
    "+ Linear Algebra는 데이터 분석에 필요한 각종 계산을 돕는다.\n",
    "+ Linear Algebra는 대량의 데이터를 포함하는 복잡한 계산 과정을 간단한 수식으로 표현할 수 있다."
   ]
  },
  {
   "cell_type": "code",
   "execution_count": 1,
   "id": "9f3129e6",
   "metadata": {},
   "outputs": [],
   "source": [
    "import numpy as np\n",
    "import matplotlib.pyplot as plt"
   ]
  },
  {
   "cell_type": "markdown",
   "id": "bd109879",
   "metadata": {},
   "source": [
    "## 데이터의 유형\n",
    "\n",
    "+ 선형대수에서 다루는 데이터는 형태에 따라 다음과 같이 나뉜다.\n",
    "    + **`Scalar`** : 하나의 **숫자**\n",
    "    + **`Vector`** : 여러 숫자로 이루어진 **데이터 레코드**\n",
    "    + **`Matrix`** : **Data Record의 집합**\n",
    "    + **`Tensor`** : 같은 크기의 **Matrix의 집합**\n",
    "+ "
   ]
  },
  {
   "cell_type": "code",
   "execution_count": 2,
   "id": "33c155f2",
   "metadata": {},
   "outputs": [
    {
     "data": {
      "text/plain": [
       "array([5.1, 3.5, 1.4, 0.2])"
      ]
     },
     "execution_count": 2,
     "metadata": {},
     "output_type": "execute_result"
    }
   ],
   "source": [
    "from sklearn.datasets import load_iris\n",
    "\n",
    "iris = load_iris()\n",
    "iris.data[0, :]"
   ]
  },
  {
   "cell_type": "markdown",
   "id": "30620e92",
   "metadata": {},
   "source": [
    "### 스칼라\n",
    "+ 스칼라는 하나의 숫자만으로 이루어진 데이터(값)이다.\n",
    "+ 스칼라는 보통 $ x $와 같이 알파벳 소문자로 표기하며\n",
    "+ 실수인 숫자 중 하나이므로 실수 집합 $ R $의 원소로 표기한다.\n",
    "    + $ x \\in R $"
   ]
  },
  {
   "cell_type": "code",
   "execution_count": 9,
   "id": "c296eece",
   "metadata": {},
   "outputs": [
    {
     "name": "stdout",
     "output_type": "stream",
     "text": [
      "IRIS 데이터의 0번째 Data Record의 0번째 값(Scalar)\n",
      "sepal length (cm) : 5.1\n"
     ]
    }
   ],
   "source": [
    "feature_name_0 = iris.feature_names[0]\n",
    "feature_scalar = iris.data[0][0]\n",
    "\n",
    "print('IRIS 데이터의 0번째 Data Record의 0번째 값(Scalar)')\n",
    "print(feature_name_0,':',feature_scalar)"
   ]
  },
  {
   "cell_type": "markdown",
   "id": "266226eb",
   "metadata": {},
   "source": [
    "### 벡터\n",
    "+ 벡터는 여러개의 숫자가 특정한 순서대로 모여있는 것이다.\n",
    "+ 여러개의 데이터를 따로따로 다루기 보다는 하나의 묶음(tuple)로 다룬다.\n",
    "+ 이러한 값의 묶음을 Linear Algebra에서는 `Vector`라고 부른다."
   ]
  },
  {
   "cell_type": "markdown",
   "id": "6466f191",
   "metadata": {},
   "source": [
    "+ 붓꽃 데이터는 4개의 데이터 $ (x_1, x_2, x_3, x_4) $가 하나로 묶여 있는데,\n",
    "+ 이를 선형대수 기호로는 다음처럼 하나의 문자 $ x $로 표기한다.\n",
    "    + $ \\begin{bmatrix} x_1 \\\\ x_2 \\\\ x_3 \\\\ x_4 \\\\ \\end{bmatrix} $\n",
    "    + 또는, $ x \\in R^4 $\n",
    "+ 하나의 벡터를 이루는 데이터의 수가 n개이면 이를 n-dimensional vector라고 한다.\n",
    "    + $ \\begin{bmatrix} x_1 \\\\ x_2 \\\\ \\vdots \\\\ x_N \\\\ \\end{bmatrix} $\n",
    "    + 또는, $ x \\in R^N $ "
   ]
  },
  {
   "cell_type": "code",
   "execution_count": 11,
   "id": "79826881",
   "metadata": {},
   "outputs": [
    {
     "data": {
      "text/plain": [
       "array([5.1, 3.5, 1.4, 0.2])"
      ]
     },
     "execution_count": 11,
     "metadata": {},
     "output_type": "execute_result"
    }
   ],
   "source": [
    "vector_0 = iris.data[0, :]\n",
    "vector_0"
   ]
  },
  {
   "cell_type": "markdown",
   "id": "082d7d76",
   "metadata": {},
   "source": [
    "$ vector_0 = \\begin{bmatrix} 5.1 \\\\ 3.5 \\\\ 1.4 \\\\ 0.2 \\end{bmatrix} $\n",
    "\n",
    "<br><br>\n",
    "+ `x1 = np.array([[5.1], [3.5], [1.4], [0.2]])`\n",
    "+ 위 처럼 2차원 배열로 표기하지만,\n",
    "+ numpy에서는 1차원 배열 객체를 대부분 벡터로 인정한다.\n",
    "    + 이때는 벡터가 **하나의 행처럼 표시되어도 실제로는 열이라는 점에 주의**한다."
   ]
  },
  {
   "cell_type": "markdown",
   "id": "099e6cc5",
   "metadata": {},
   "source": [
    "### 행렬\n",
    "+ 행렬의 복수의 차원을 가지는 Data Record가 여러개 있는 경우를 표기한 것이다.\n",
    "+ 4차원의 Data Record가 6개 있다면 아래와 같은 행렬로 표현 할 수 있다.\n",
    "    + $ X = \\begin{bmatrix} x_{1,1} & x_{1,2} & x_{1,3} & x_{1,4} \\\\\n",
    "    x_{2,1} & x_{2,2} & x_{2,3} & x_{2,4} \\\\\n",
    "    x_{3,1} & x_{3,2} & x_{3,3} & x_{3,4} \\\\\n",
    "    x_{4,1} & x_{4,2} & x_{4,3} & x_{4,4} \\\\\n",
    "    x_{5,1} & x_{5,2} & x_{5,3} & x_{5,4} \\\\\n",
    "    x_{6,1} & x_{6,2} & x_{6,3} & x_{6,4} \\end{bmatrix} $"
   ]
  },
  {
   "cell_type": "code",
   "execution_count": null,
   "id": "96398477",
   "metadata": {},
   "outputs": [],
   "source": []
  }
 ],
 "metadata": {
  "kernelspec": {
   "display_name": "Python 3 (ipykernel)",
   "language": "python",
   "name": "python3"
  },
  "language_info": {
   "codemirror_mode": {
    "name": "ipython",
    "version": 3
   },
   "file_extension": ".py",
   "mimetype": "text/x-python",
   "name": "python",
   "nbconvert_exporter": "python",
   "pygments_lexer": "ipython3",
   "version": "3.8.15"
  }
 },
 "nbformat": 4,
 "nbformat_minor": 5
}
