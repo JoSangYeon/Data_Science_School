{
 "cells": [
  {
   "cell_type": "markdown",
   "id": "5fc7fd7f",
   "metadata": {},
   "source": [
    "# 벡터와 행렬의 연산\n",
    "+ 벡터와 행렬도 숫자처럼 사칙연산이 가능하다.\n",
    "+ 벡터와 행렬 연산을 통해 대규모의 데이터 연산을 간단한 수식으로 표현할 수 있다."
   ]
  },
  {
   "cell_type": "code",
   "execution_count": 1,
   "id": "a31a7418",
   "metadata": {},
   "outputs": [],
   "source": [
    "import numpy as np\n",
    "import matplotlib.pylab as plt"
   ]
  },
  {
   "cell_type": "markdown",
   "id": "fc18f0fb",
   "metadata": {},
   "source": [
    "## 벡터/행렬의 덧셈과 뺄셈\n",
    "+ 벡터와 행렬의 덧셈과 뺄셈은 같은 위치의 원소끼리 수행한다.\n",
    "+ 이러한 연산을 **`요소별(element-wise)`**라고 한다.\n",
    "\n",
    "+ 예를 들어 벡터 $x$와 $y$가 다음과 같으면,\n",
    "    + $ x = \\begin{bmatrix} 10 \\\\ 11 \\\\ 12 \\\\ \\end{bmatrix},\\;\\; y= \\begin{bmatrix} 0 \\\\ 1 \\\\ 2 \\\\ \\end{bmatrix} $\n",
    "    + ![image](https://user-images.githubusercontent.com/28241676/204974795-ccf8ef38-5ae9-41a9-941a-b75fd9b1bb5f.png)"
   ]
  },
  {
   "cell_type": "code",
   "execution_count": 2,
   "id": "c78772b8",
   "metadata": {},
   "outputs": [],
   "source": [
    "x = np.array([10, 11, 12, 13, 14])\n",
    "y = np.array([0, 1, 2, 3, 4])"
   ]
  },
  {
   "cell_type": "code",
   "execution_count": 3,
   "id": "05ebfe93",
   "metadata": {},
   "outputs": [
    {
     "data": {
      "text/plain": [
       "array([10, 12, 14, 16, 18])"
      ]
     },
     "execution_count": 3,
     "metadata": {},
     "output_type": "execute_result"
    }
   ],
   "source": [
    "x + y"
   ]
  },
  {
   "cell_type": "code",
   "execution_count": 4,
   "id": "75a1639d",
   "metadata": {},
   "outputs": [
    {
     "data": {
      "text/plain": [
       "array([10, 10, 10, 10, 10])"
      ]
     },
     "execution_count": 4,
     "metadata": {},
     "output_type": "execute_result"
    }
   ],
   "source": [
    "x - y"
   ]
  },
  {
   "cell_type": "code",
   "execution_count": 5,
   "id": "6175e2b7",
   "metadata": {},
   "outputs": [
    {
     "data": {
      "text/plain": [
       "array([[14, 24],\n",
       "       [34, 44]])"
      ]
     },
     "execution_count": 5,
     "metadata": {},
     "output_type": "execute_result"
    }
   ],
   "source": [
    "# 행렬도 요소별 연산으로 작동\n",
    "a = np.array([[5, 6], [7, 8]])\n",
    "b = np.array([[10, 20], [30, 40]])\n",
    "c = np.array([[1, 2], [3, 4]])\n",
    "\n",
    "a + b - c"
   ]
  },
  {
   "cell_type": "markdown",
   "id": "50e2d681",
   "metadata": {},
   "source": [
    "## 스칼라와 벡터/행렬의 곱셈\n",
    "+ 벡터와 행렬에 스칼라 값 `C`를 곱하는 것은\n",
    "+ 벡터와 행렬의 모든 원소에 `C`값을 곱하는 것과 같다.\n",
    "    + ![image](https://user-images.githubusercontent.com/28241676/204975751-703b53eb-6ee4-41d6-8760-8e8478dbda60.png)\n",
    "    + ![image](https://user-images.githubusercontent.com/28241676/204975760-df6f77e4-0d2c-4998-98b2-d1a63c063958.png)"
   ]
  },
  {
   "cell_type": "code",
   "execution_count": 6,
   "id": "8abb1de8",
   "metadata": {},
   "outputs": [
    {
     "name": "stdout",
     "output_type": "stream",
     "text": [
      "[30 33 36 39 42]\n",
      "[[-15 -18]\n",
      " [-21 -24]]\n"
     ]
    }
   ],
   "source": [
    "x = np.array([10, 11, 12, 13, 14])\n",
    "a = np.array([[5, 6], [7, 8]])\n",
    "\n",
    "print(3 * x)\n",
    "print(-3 * a)"
   ]
  },
  {
   "attachments": {},
   "cell_type": "markdown",
   "id": "2cd81a00",
   "metadata": {},
   "source": [
    "## 브로드캐스팅\n",
    "+ 벡터와 행렬은 덧셈/뺄셈은 같은 차원(크기)에 대해서만 가능하지만\n",
    "+ 벡터와 스칼라의 경우에는 관례적으로 스칼라를 벡터로 변환한 연산을 허용한다.\n",
    "+ 이를 **`브로드캐스팅(boradcasting)`** 이라고 한다.\n",
    "+ ![image](https://user-images.githubusercontent.com/28241676/204976515-51506086-61d7-477a-8e21-526e786f57e6.png)"
   ]
  },
  {
   "cell_type": "code",
   "execution_count": 8,
   "id": "caa8cac4",
   "metadata": {},
   "outputs": [
    {
     "name": "stdout",
     "output_type": "stream",
     "text": [
      "[ -7  -8  -9 -10 -11]\n",
      "[[15 16]\n",
      " [17 18]]\n"
     ]
    }
   ],
   "source": [
    "x = np.array([10, 11, 12, 13, 14])\n",
    "a = np.array([[5, 6], [7, 8]])\n",
    "\n",
    "print(3 - x)\n",
    "print(a + 10)"
   ]
  },
  {
   "cell_type": "markdown",
   "id": "50cc317c",
   "metadata": {},
   "source": [
    "## 선형조합\n",
    "+ 벡터/행렬에 스칼라값을 곱한 후 더하거나 뺀 것을 벡터/행렬의 **`선형조합(Linear Combination)`** 이라고 한다.\n",
    "+ 크기는 변하지 않는다.\n",
    "    + ![image](https://user-images.githubusercontent.com/28241676/204977216-157a194d-d28f-4a3f-860a-071989a5e5f3.png)\n",
    "    + ![image](https://user-images.githubusercontent.com/28241676/204977232-040d7b92-b486-41cd-8a62-f6e5aed57a55.png)"
   ]
  },
  {
   "cell_type": "markdown",
   "id": "4cc2af3f",
   "metadata": {},
   "source": [
    "## 벡터와 벡터의 곱셈\n",
    "+ 벡터간의 곱셈은 여러가지가 있지만, **`내적(inner product)`** 을 소개한다.\n",
    "+ 벡터 $x$와 $y$의 내적은 다음처럼 표기한다.\n",
    "    + $ x^Ty $\n",
    "+ 내적은 `점(dot)`으로 표기하는 경우가 있어 **`Dot product`** 라고도 부른다.\n",
    "    + $ x \\cdot y = <x, y> = x^Ty $\n",
    "    \n",
    "+ 벡터를 내적하기 위해선 다음 조건을 만족해야 한다.\n",
    "    1. 두 벡터의 차원(길이, 크기)가 같아야 한다.\n",
    "    2. 앞의 벡터가 행벡터이고 뒤의 벡터는 열벡터여야 한다.\n",
    "+ 벡터의 내적의 결과는 스칼라값이다.\n",
    "+ 계산은 다음과 같이 수행한다.\n",
    "    + ![image](https://user-images.githubusercontent.com/28241676/204978046-d0848f60-4613-4f33-9109-9ae6902d6d28.png)\n",
    "    \n",
    "+ Ex)\n",
    "    + ![image](https://user-images.githubusercontent.com/28241676/204978102-e4753cfd-17d6-4a49-bad9-b664ac8d3d84.png)\n",
    "    + ![image](https://user-images.githubusercontent.com/28241676/204978113-ba249847-b93f-4329-b0e3-ab6c2feb16e4.png)"
   ]
  },
  {
   "cell_type": "code",
   "execution_count": 9,
   "id": "847582eb",
   "metadata": {},
   "outputs": [
    {
     "name": "stdout",
     "output_type": "stream",
     "text": [
      "[[32]]\n",
      "[[32]]\n"
     ]
    }
   ],
   "source": [
    "x = np.array([[1], [2], [3]])\n",
    "y = np.array([[4], [5], [6]])\n",
    "\n",
    "print(x.T @ y)\n",
    "print(np.dot(x.T, y))"
   ]
  },
  {
   "cell_type": "code",
   "execution_count": 10,
   "id": "1c92baec",
   "metadata": {},
   "outputs": [
    {
     "name": "stdout",
     "output_type": "stream",
     "text": [
      "32\n",
      "32\n"
     ]
    }
   ],
   "source": [
    "# numpy에서는 1차원 벡터(배열) 끼리도 내적이 가능하다.\n",
    "x = np.array([1, 2, 3])\n",
    "y = np.array([4, 5, 6])\n",
    "\n",
    "print(x @ y)\n",
    "print(np.dot(x, y))"
   ]
  },
  {
   "cell_type": "markdown",
   "id": "81413876",
   "metadata": {},
   "source": [
    "## 가중합(weighted sum)\n",
    "+ 벡터의 내적은 가중합을 계산할 때 사용할 수 있다.\n",
    "+ 복수의 데이터를 각각의 요소에 어떠한 가중치(weights)를 곱한 후 다시 합한 결과를 사용한다.\n",
    "+ 만약,\n",
    "    + 데이터가 $ x = [x_1, x_2, \\cdots, x_N]^T $\n",
    "    + 가중치가 $ w = [w_1, w_2, \\cdots, w_N]^T $\n",
    "    + 가중합은 $ x_1w_1 + x_2w_2 + \\cdots + x_Nw_N = \\sum_{i=1}^N x_iw_i $\n",
    "+ 위 공식은 벡터의 내적으로 수식화 할 수 있다.\n",
    "    + ![image](https://user-images.githubusercontent.com/28241676/204979207-cf6915c7-f7ca-4f18-b554-7ab9bcf0292a.png)"
   ]
  },
  {
   "cell_type": "code",
   "execution_count": 11,
   "id": "df39ea78",
   "metadata": {},
   "outputs": [
    {
     "name": "stdout",
     "output_type": "stream",
     "text": [
      "[[31]]\n",
      "[[31]]\n"
     ]
    }
   ],
   "source": [
    "w = np.array([[1], [3], [-2], [2], [-1]])\n",
    "x = np.array([[10], [11], [12], [13], [14]])\n",
    "\n",
    "print(w.T @ x)\n",
    "print(np.dot(x.T, w))"
   ]
  },
  {
   "cell_type": "markdown",
   "id": "ecda55e6",
   "metadata": {},
   "source": [
    "## 가중평균(weighted average)\n",
    "+ 가중합의 가중치(`w`)값을 전체 가중치값의 합(`sum(w)`)으로 나누면,\n",
    "+ **`가중평균(wieghted average)`**가 된다.\n",
    "+ 1학점, 3학점 과목의 점수가 각각 100점, 60점일 때 가중평균은 다음과 같다.\n",
    "    + ![image](https://user-images.githubusercontent.com/28241676/204980809-c1777573-f88a-4fc7-ab2a-cdcf48abfe5f.png)"
   ]
  },
  {
   "cell_type": "code",
   "execution_count": 12,
   "id": "b276c466",
   "metadata": {},
   "outputs": [
    {
     "data": {
      "text/plain": [
       "4.5"
      ]
     },
     "execution_count": 12,
     "metadata": {},
     "output_type": "execute_result"
    }
   ],
   "source": [
    "# 간단히 numpy의 mean()메소드를 사용하는 것이 편하다.\n",
    "x = np.arange(10)\n",
    "x.mean()"
   ]
  },
  {
   "cell_type": "markdown",
   "id": "a37b7718",
   "metadata": {},
   "source": [
    "## 유사도(similarity)\n",
    "+ 두 벡터가 닮은 정도를 정량적으로 나타낸다.\n",
    "+ 내적을 이용하면 **코사인 유사도(cosine similarity)** 라는 유사도를 계산할 수 있다."
   ]
  },
  {
   "cell_type": "code",
   "execution_count": 13,
   "id": "7e220c0b",
   "metadata": {},
   "outputs": [
    {
     "data": {
      "image/png": "[encoded data removed]",
      "text/plain": [
       "<Figure size 900x900 with 8 Axes>"
      ]
     },
     "metadata": {},
     "output_type": "display_data"
    }
   ],
   "source": [
    "from sklearn.datasets import load_digits\n",
    "import matplotlib.gridspec as gridspec\n",
    "\n",
    "digits = load_digits()\n",
    "d1 = digits.images[0]\n",
    "d2 = digits.images[10]\n",
    "d3 = digits.images[1]\n",
    "d4 = digits.images[11]\n",
    "v1 = d1.reshape(64, 1)\n",
    "v2 = d2.reshape(64, 1)\n",
    "v3 = d3.reshape(64, 1)\n",
    "v4 = d4.reshape(64, 1)\n",
    "\n",
    "plt.figure(figsize=(9, 9))\n",
    "gs = gridspec.GridSpec(1, 8, height_ratios=[1],\n",
    "                       width_ratios=[9, 1, 9, 1, 9, 1, 9, 1])\n",
    "for i in range(4):\n",
    "    plt.subplot(gs[2 * i])\n",
    "    plt.imshow(eval(\"d\" + str(i + 1)), aspect=1,\n",
    "               interpolation='nearest', cmap=plt.cm.bone_r)\n",
    "    plt.grid(False)\n",
    "    plt.xticks([])\n",
    "    plt.yticks([])\n",
    "    plt.title(\"image {}\".format(i + 1))\n",
    "    plt.subplot(gs[2 * i + 1])\n",
    "    plt.imshow(eval(\"v\" + str(i + 1)), aspect=0.25,\n",
    "               interpolation='nearest', cmap=plt.cm.bone_r)\n",
    "    plt.grid(False)\n",
    "    plt.xticks([])\n",
    "    plt.yticks([])\n",
    "    plt.title(\"vector {}\".format(i + 1))\n",
    "plt.tight_layout()\n",
    "plt.show()"
   ]
  },
  {
   "cell_type": "code",
   "execution_count": 14,
   "id": "6c1ed2dd",
   "metadata": {},
   "outputs": [
    {
     "name": "stdout",
     "output_type": "stream",
     "text": [
      "0이미지 유사도 : [[3064.]]\n",
      "1이미지 유사도 : [[3661.]]\n"
     ]
    }
   ],
   "source": [
    "# 0과 0 이미지, 1과 1이미지간의 유사도를 계산\n",
    "print('0이미지 유사도 :', v1.T @ v2)\n",
    "print('1이미지 유사도 :', v3.T @ v4)"
   ]
  },
  {
   "cell_type": "code",
   "execution_count": 15,
   "id": "af47b118",
   "metadata": {},
   "outputs": [
    {
     "name": "stdout",
     "output_type": "stream",
     "text": [
      "0과 1 이미지 유사도 : [[1866.]]\n",
      "1과 0 이미지 유사도 : [[2479.]]\n"
     ]
    }
   ],
   "source": [
    "# 0과 1 이미지, 1과 0이미지간의 유사도를 계산\n",
    "print('0과 1 이미지 유사도 :', v1.T @ v3)\n",
    "print('1과 0 이미지 유사도 :', v2.T @ v4)"
   ]
  },
  {
   "cell_type": "markdown",
   "id": "0dd3d554",
   "metadata": {},
   "source": [
    "## 행렬과 행렬의 곱셈\n",
    "+ 행렬간의 곱셈은 다음과 같이 정의한다.\n",
    "+ 행렬 $A$와 $B$의 곱 결과가 $C$라고 할때,\n",
    "+ $C$의 $i$번째행, $j$번째 열의 원소 $c_{ij}$의 값은\n",
    "+ **$A$행렬의 $i$번째 행벡터 $a_i^T$와 $B$행렬의 $j$번째 열벡터 $b_j$의 곱** 이다.\n",
    "    + $ C = AB \\rightarrow c_{ij} = a_i^T b_j $\n",
    "    \n",
    "+ $$\n",
    "\\begin{bmatrix}\n",
    "a_{11} & a_{12} & a_{13} \\\\\n",
    "a_{21} & a_{22} & a_{23} \\\\\n",
    "a_{31} & a_{32} & a_{33} \\\\\n",
    "a_{41} & a_{42} & a_{43} \\\\\n",
    "\\end{bmatrix}\n",
    "\\begin{bmatrix}\n",
    "{b_{11}} & b_{12} \\\\\n",
    "{b_{21}} & b_{22} \\\\\n",
    "{b_{31}} & b_{32} \\\\    \n",
    "\\end{bmatrix}\n",
    "=\n",
    "\\begin{bmatrix}\n",
    "(a_{11}b_{11} + a_{12}b_{21} + a_{13}b_{31}) & (a_{11}b_{12} + a_{12}b_{22} + a_{13}b_{32}) \\\\\n",
    "(a_{21}b_{11} + a_{22}b_{21} + a_{23}b_{31}) & (a_{21}b_{12} + a_{22}b_{22} + a_{23}b_{32}) \\\\\n",
    "(a_{31}b_{11} + a_{32}b_{21} + a_{33}b_{31}) & (a_{31}b_{12} + a_{32}b_{22} + a_{33}b_{32}) \\\\\n",
    "(a_{41}b_{11} + a_{42}b_{21} + a_{43}b_{31}) & (a_{41}b_{12} + a_{42}b_{22} + a_{43}b_{32}) \\\\\n",
    "\\end{bmatrix}\n",
    "$$\n",
    "+ ![image](https://user-images.githubusercontent.com/28241676/204983836-bdacb6c5-15aa-425f-8b50-ef65c8f1c05b.png)"
   ]
  },
  {
   "cell_type": "code",
   "execution_count": 17,
   "id": "5683e82c",
   "metadata": {},
   "outputs": [
    {
     "data": {
      "text/plain": [
       "array([[22, 28],\n",
       "       [49, 64]])"
      ]
     },
     "execution_count": 17,
     "metadata": {},
     "output_type": "execute_result"
    }
   ],
   "source": [
    "A = np.array([[1, 2, 3], [4, 5, 6]])\n",
    "B = np.array([[1, 2], [3, 4], [5, 6]])\n",
    "\n",
    "C = np.dot(A, B) # 또는, A @ B\n",
    "C"
   ]
  },
  {
   "cell_type": "markdown",
   "id": "1f14c63e",
   "metadata": {},
   "source": [
    "## 행렬의 교환법칙과 분배법칙\n",
    "+ 행렬곱셈의 순서를 바꾸는 교환법칙은 성립하지 않는다.\n",
    "+ 그러나 덧셈에 대한 분배법칙은 성립한다.\n",
    "    + $ AB \\ne BA $\n",
    "    + $ A(B+C) = AB + AC $\n",
    "    + $ (A+B)C = AC + BC $"
   ]
  },
  {
   "cell_type": "code",
   "execution_count": 18,
   "id": "c1437375",
   "metadata": {},
   "outputs": [],
   "source": [
    "A = np.array([[1, 2], [3, 4]])\n",
    "B = np.array([[5, 6], [7, 8]])\n",
    "C = np.array([[9, 8], [7, 6]])"
   ]
  },
  {
   "cell_type": "code",
   "execution_count": 22,
   "id": "940a48b9",
   "metadata": {},
   "outputs": [
    {
     "data": {
      "text/plain": [
       "(array([[19, 22],\n",
       "        [43, 50]]),\n",
       " array([[23, 34],\n",
       "        [31, 46]]))"
      ]
     },
     "execution_count": 22,
     "metadata": {},
     "output_type": "execute_result"
    }
   ],
   "source": [
    "# 교환법칙은 성립하지 않음\n",
    "A @ B, B @ A"
   ]
  },
  {
   "cell_type": "code",
   "execution_count": 24,
   "id": "40c90bcf",
   "metadata": {},
   "outputs": [
    {
     "data": {
      "text/plain": [
       "(array([[42, 42],\n",
       "        [98, 98]]),\n",
       " array([[42, 42],\n",
       "        [98, 98]]))"
      ]
     },
     "execution_count": 24,
     "metadata": {},
     "output_type": "execute_result"
    }
   ],
   "source": [
    "# 분배법칙은 성립함\n",
    "(A @ (B + C),\n",
    "A @ B + A @ C)"
   ]
  },
  {
   "cell_type": "markdown",
   "id": "a5e5587c",
   "metadata": {},
   "source": [
    "+ 전치 연산도 덧셈/뺄셈 분배법칙이 성립한다.\n",
    "    + $ (A + B)^T = A^T + B^T $ \n",
    "    + $ (ABC)^T = A^TB^TC^T $"
   ]
  },
  {
   "cell_type": "markdown",
   "id": "ac1daf46",
   "metadata": {},
   "source": [
    "*이하 설명 생략*"
   ]
  },
  {
   "cell_type": "code",
   "execution_count": null,
   "id": "96181146",
   "metadata": {},
   "outputs": [],
   "source": []
  }
 ],
 "metadata": {
  "kernelspec": {
   "display_name": "Data_Science_School",
   "language": "python",
   "name": "data_science_school"
  },
  "language_info": {
   "codemirror_mode": {
    "name": "ipython",
    "version": 3
   },
   "file_extension": ".py",
   "mimetype": "text/x-python",
   "name": "python",
   "nbconvert_exporter": "python",
   "pygments_lexer": "ipython3",
   "version": "3.8.15"
  }
 },
 "nbformat": 4,
 "nbformat_minor": 5
}
